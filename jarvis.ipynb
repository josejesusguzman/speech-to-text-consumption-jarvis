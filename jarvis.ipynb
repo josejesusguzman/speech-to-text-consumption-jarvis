{
 "cells": [
  {
   "cell_type": "markdown",
   "source": [
    "# Consumo de la API de Speech-to-Text (Jarvis)\r\n",
    "\r\n",
    "Este proyecto convierte lo que capta tu microfono y lo manda a un servicio de LUIS \r\n",
    "\r\n",
    "- [Ve la clase grabada aquí](https://web.microsoftstream.com/video/8d9bc7c5-853d-4dbd-ae6c-6b5b504bee59)\r\n",
    "\r\n",
    "Lo que vas a necesitar:\r\n",
    "- [Servicio de LUIS](https://www.luis.ai/)\r\n",
    "- Servicio de Logic Apps\r\n",
    "\r\n",
    "**Nota:** Si no posees de los dispositivos IoT necesarios puedes modificar el código y llegar hasta obtener la intención y/o acción del servicio de LUIS"
   ],
   "metadata": {}
  },
  {
   "cell_type": "markdown",
   "source": [
    "Importamos las librerías necesarias.\r\n",
    "Aquí vamos a usar el SDK de Cognitive Services para obtener la voz del microfono y transformarlo a texto\r\n",
    "- [Referencias del SDK de Python](https://docs.microsoft.com/en-us/azure/cognitive-services/speech-service/get-started-speech-to-text?tabs=windowsinstall&pivots=programming-language-python)"
   ],
   "metadata": {}
  },
  {
   "cell_type": "code",
   "execution_count": null,
   "source": [
    "import azure.cognitiveservices.speech as speechsdk\r\n",
    "import requests\r\n",
    "import json"
   ],
   "outputs": [],
   "metadata": {}
  },
  {
   "cell_type": "markdown",
   "source": [
    "Posteriormente debes colocar la información necesaria para que funcione el servicio"
   ],
   "metadata": {}
  },
  {
   "cell_type": "code",
   "execution_count": null,
   "source": [
    "\r\n",
    "url = \"URL_DE_CONSUMO_LA_LOGIC_APPS\"\r\n",
    "header = {\"Content-Type\": \"application/json\"}\r\n",
    "\r\n",
    "speech_config = speechsdk.SpeechConfig(subscription=\"KEY_DEL_SERVICIO_SPEECH_TO_TEXT\", region=\"REGION_SERVICIO\")\r\n",
    "speech_recognizer = speechsdk.SpeechRecognizer(speech_config=speech_config, language=\"es-MX\")\r\n",
    "result = speech_recognizer.recognize_once()"
   ],
   "outputs": [],
   "metadata": {}
  },
  {
   "cell_type": "markdown",
   "source": [
    "Se obtiene la respuesta del Servicio de Speech y se crea la condición para cada caso que pueda arrojar el servicio"
   ],
   "metadata": {}
  },
  {
   "cell_type": "code",
   "execution_count": null,
   "source": [
    "if result.reason == speechsdk.ResultReason.RecognizedSpeech:\r\n",
    "    print(\"Recognized: {}\".format(result.text))\r\n",
    "    # Este es el fragmento de códigi que lo manda a la Logic App\r\n",
    "    body = {'\\\"utterance\\\"': '\\\"' + result.text + '\\\"'}\r\n",
    "    x = requests.post(url, json = body, headers = header)\r\n",
    "    print(x.json())\r\n",
    "    # Aquí termina el fragmento de códigi que lo manda a la Logic App\r\n",
    "\r\n",
    "# Si la IA no reconoce la frase, se muestra un mensaje de error\r\n",
    "elif result.reason == speechsdk.ResultReason.NoMatch:\r\n",
    "    print(\"No speech could be recognized: {}\".format(result.no_match_details))\r\n",
    "# Si el reconocimiento de voz se cancela por alguna razon, se muestra un mensaje de error\r\n",
    "elif result.reason == speechsdk.ResultReason.Canceled:\r\n",
    "    cancellation_details = result.cancellation_details\r\n",
    "    print(\"Speech Recognition canceled: {}\".format(cancellation_details.reason))\r\n",
    "    # Detalla los mensajes de error\r\n",
    "    if cancellation_details.reason == speechsdk.CancellationReason.Error:\r\n",
    "        print(\"Error details: {}\".format(cancellation_details.error_details))"
   ],
   "outputs": [],
   "metadata": {}
  }
 ],
 "metadata": {
  "orig_nbformat": 4,
  "language_info": {
   "name": "python"
  }
 },
 "nbformat": 4,
 "nbformat_minor": 2
}